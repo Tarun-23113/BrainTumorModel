{
 "cells": [
  {
   "cell_type": "markdown",
   "id": "225384eb-cfd8-4bd3-8dac-078fdafee2d8",
   "metadata": {},
   "source": [
    "# Data Science Tools and Ecosystem"
   ]
  },
  {
   "cell_type": "markdown",
   "id": "9845ade3-db8c-44e3-8ad8-690e8d4a3b0a",
   "metadata": {},
   "source": [
    "In this notebook, Data Science Tools and Ecosystem are summarized."
   ]
  },
  {
   "cell_type": "markdown",
   "id": "9c0e17c0-ba2a-4981-a540-6d752f79a218",
   "metadata": {},
   "source": [
    "Objectives :\n",
    "1. Languages used\n",
    "2. Libraries used\n",
    "3. Tools used\n",
    "4. Arithmetic Operations used\n",
    "\n",
    "## Author\n",
    "Name - Lakshmi Holla"
   ]
  },
  {
   "cell_type": "markdown",
   "id": "ce1ab057-be7a-4ea6-b4de-76003ad131db",
   "metadata": {},
   "source": [
    "Some of the popular languages that Data Scientists use are:\n",
    "1. Python\n",
    "2. R\n",
    "3. SQL\n",
    "4. Java\n"
   ]
  },
  {
   "cell_type": "markdown",
   "id": "6e281623-7bf5-48a8-89f5-40fb2941a6c0",
   "metadata": {},
   "source": [
    "Some of the commonly used libraries used by Data Scientists include:\n",
    "1. Pandas\n",
    "2. Numpy"
   ]
  },
  {
   "cell_type": "markdown",
   "id": "8bfe7fe7-906f-4167-a021-a8c7c018c351",
   "metadata": {},
   "source": [
    "| Data Science Tools |\n",
    "| -------------------|\n",
    "| My Sql|\n",
    "| Jupyter |\n",
    "| RStudio |"
   ]
  },
  {
   "cell_type": "markdown",
   "id": "c1421504-70a3-430e-ae19-207b966c4c4f",
   "metadata": {},
   "source": [
    "Below are few examples of Evalusting Arithmetic Calculations in Python"
   ]
  },
  {
   "cell_type": "code",
   "execution_count": 20,
   "id": "87b31809-5d04-431e-ba74-dfd5b9d41aba",
   "metadata": {},
   "outputs": [
    {
     "data": {
      "text/plain": [
       "2"
      ]
     },
     "execution_count": 20,
     "metadata": {},
     "output_type": "execute_result"
    }
   ],
   "source": [
    "1+1"
   ]
  },
  {
   "cell_type": "code",
   "execution_count": 22,
   "id": "aeccf0aa-ca04-4891-ade6-58d3e0b6879c",
   "metadata": {},
   "outputs": [
    {
     "data": {
      "text/plain": [
       "9"
      ]
     },
     "execution_count": 22,
     "metadata": {},
     "output_type": "execute_result"
    }
   ],
   "source": [
    "3*3"
   ]
  },
  {
   "cell_type": "code",
   "execution_count": 24,
   "id": "767fe000-f4af-46a7-8ca0-2a4074148de9",
   "metadata": {},
   "outputs": [
    {
     "data": {
      "text/plain": [
       "3.0"
      ]
     },
     "execution_count": 24,
     "metadata": {},
     "output_type": "execute_result"
    }
   ],
   "source": [
    "(3*4)/4"
   ]
  },
  {
   "cell_type": "code",
   "execution_count": 26,
   "id": "92f8a439-a5c6-4b9a-bd9e-7e7fab2a0e50",
   "metadata": {},
   "outputs": [
    {
     "data": {
      "text/plain": [
       "17"
      ]
     },
     "execution_count": 26,
     "metadata": {},
     "output_type": "execute_result"
    }
   ],
   "source": [
    "(3*4)+5"
   ]
  },
  {
   "cell_type": "code",
   "execution_count": 28,
   "id": "ee77472d-b3a4-41bb-8a53-834c1e6dd5a4",
   "metadata": {},
   "outputs": [
    {
     "data": {
      "text/plain": [
       "3.3333333333333335"
      ]
     },
     "execution_count": 28,
     "metadata": {},
     "output_type": "execute_result"
    }
   ],
   "source": [
    "#This will convert 200 min to hours\n",
    "200/60"
   ]
  },
  {
   "cell_type": "code",
   "execution_count": null,
   "id": "f3acecc4-c7cc-4201-afaf-74acb61334c2",
   "metadata": {},
   "outputs": [],
   "source": []
  }
 ],
 "metadata": {
  "kernelspec": {
   "display_name": "Python [conda env:base] *",
   "language": "python",
   "name": "conda-base-py"
  },
  "language_info": {
   "codemirror_mode": {
    "name": "ipython",
    "version": 3
   },
   "file_extension": ".py",
   "mimetype": "text/x-python",
   "name": "python",
   "nbconvert_exporter": "python",
   "pygments_lexer": "ipython3",
   "version": "3.12.7"
  }
 },
 "nbformat": 4,
 "nbformat_minor": 5
}
